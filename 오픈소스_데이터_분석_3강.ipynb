{
  "cells": [
    {
      "cell_type": "markdown",
      "metadata": {
        "id": "view-in-github",
        "colab_type": "text"
      },
      "source": [
        "<a href=\"https://colab.research.google.com/github/TaesanJang/Data-Analysis-with-Open-Source/blob/main/%EC%98%A4%ED%94%88%EC%86%8C%EC%8A%A4_%EB%8D%B0%EC%9D%B4%ED%84%B0_%EB%B6%84%EC%84%9D_3%EA%B0%95.ipynb\" target=\"_parent\"><img src=\"https://colab.research.google.com/assets/colab-badge.svg\" alt=\"Open In Colab\"/></a>"
      ]
    },
    {
      "cell_type": "markdown",
      "metadata": {
        "id": "DkPKaAsoRq5Q"
      },
      "source": [
        "\n",
        "\n",
        "# 오픈소스 기반 데이터 분석 3강 - 데이터 분석을 위한 파이썬 2\n"
      ]
    },
    {
      "cell_type": "markdown",
      "metadata": {
        "id": "-I7BVVlnRrB0"
      },
      "source": [
        "## 3-1 언패킹"
      ]
    },
    {
      "cell_type": "code",
      "execution_count": null,
      "metadata": {
        "id": "2Y2HEiaiRwAI"
      },
      "outputs": [],
      "source": [
        "coordinates = (10, 20)\n",
        "x, y = coordinates\n",
        "# 튜플 언패킹\n",
        "\n",
        "print(f'x좌표: {x}, y좌표: {y}')\n",
        "\n",
        "rgb = [255, 128, 0]\n",
        "# 리스트 언패킹\n",
        "\n",
        "print(f'빨강: {red}, 초록: {green}, 파랑: {blue}')\n",
        "\n",
        "word = 'ABC'\n",
        "# 문자열 언패킹\n",
        "\n",
        "print(f'첫 번째 문자: {first}, 두 번째 문자: {second}, 세 번째 문자: {third}')"
      ]
    },
    {
      "cell_type": "code",
      "execution_count": null,
      "metadata": {
        "id": "IO8bsKekR0W_",
        "outputId": "cf27dc4e-1e79-4300-d74c-ab96ba96818a",
        "colab": {
          "base_uri": "https://localhost:8080/"
        }
      },
      "outputs": [
        {
          "output_type": "stream",
          "name": "stdout",
          "text": [
            "최솟값: 5, 최댓값: 32, 평균: 15.57\n"
          ]
        }
      ],
      "source": [
        "def get_dataset_stats(values):\n",
        "  return min(values), max(values), sum(values) / len(values)\n",
        "\n",
        "data = [12, 8, 21, 17, 5, 32, 14]\n",
        "\n",
        "# 함수값 return 언패킹\n",
        "minimum, maximum, average = get_dataset_stats(data)\n",
        "print(f'최솟값: {minimum}, 최댓값: {maximum}, 평균: {average:.2f}')"
      ]
    },
    {
      "cell_type": "code",
      "execution_count": null,
      "metadata": {
        "id": "60qOf7uxVdAg",
        "outputId": "83d1da2f-ac4e-4466-fd82-8571c570a5ba",
        "colab": {
          "base_uri": "https://localhost:8080/"
        }
      },
      "outputs": [
        {
          "output_type": "stream",
          "name": "stdout",
          "text": [
            "김철수의 평균 점수: 85.0\n",
            "이영희의 평균 점수: 91.7\n",
            "박지민의 평균 점수: 82.7\n"
          ]
        }
      ],
      "source": [
        "student_scores = [\n",
        "    ('김철수', 85, 92, 78),\n",
        "    ('이영희', 92, 88, 95),\n",
        "    ('박지민', 75, 83, 90)\n",
        "]\n",
        "\n",
        "# 반복문에서 언패킹 사용\n",
        "for name, database, python, cloud in student_scores:\n",
        "  average = (database + python + cloud) / 3\n",
        "  print(f'{name}의 평균 점수: {average:.1f}')"
      ]
    },
    {
      "cell_type": "code",
      "execution_count": null,
      "metadata": {
        "id": "JpmgdsW9V0CY",
        "outputId": "11c006c1-a496-401b-ca0d-7007358af41c",
        "colab": {
          "base_uri": "https://localhost:8080/"
        }
      },
      "outputs": [
        {
          "output_type": "stream",
          "name": "stdout",
          "text": [
            "1월 판매액: 1200\n",
            "2월 판매액: 1350\n",
            "나머지 월 판매액: [1420, 1500, 1300, 1580, 1620, 1700, 1800, 1850, 1900, 2000]\n",
            "첫 달(1월) 판매액: 1200\n",
            "마지막 달(12월) 판매액: 2000\n",
            "중간 달(2~11월)의 판매액: [1350, 1420, 1500, 1300, 1580, 1620, 1700, 1800, 1850, 1900]\n"
          ]
        }
      ],
      "source": [
        "monthly_sales = [1200, 1350, 1420, 1500, 1300, 1580, 1620, 1700, 1800, 1850, 1900, 2000]\n",
        "\n",
        "# 1월, 2월 및 나머지 월 매출액\n",
        "first, second, *remaining = monthly_sales\n",
        "print(f'1월 판매액: {first}')\n",
        "print(f'2월 판매액: {second}')\n",
        "print(f'나머지 월 판매액: {remaining}')\n",
        "\n",
        "# 1월, 12월 및 나머지 월 매출액\n",
        "first, *middle, last = monthly_sales\n",
        "print(f'첫 달(1월) 판매액: {first}')\n",
        "print(f'마지막 달(12월) 판매액: {last}')\n",
        "print(f'중간 달(2~11월)의 판매액: {middle}')"
      ]
    },
    {
      "cell_type": "markdown",
      "metadata": {
        "id": "RLfPaa1ZiqIC"
      },
      "source": [
        "## 3-5 언더스코어"
      ]
    },
    {
      "cell_type": "code",
      "execution_count": null,
      "metadata": {
        "id": "cRC8x3_iW0im"
      },
      "outputs": [],
      "source": [
        "students = [\n",
        "    (20251234, '김철수', '컴퓨터과학', 2, 3.8),\n",
        "    (20265678, '이영희', '생활과학부', 3, 4.2),\n",
        "    (20243456, '박민수', '사회복지학과', 1, 3.5)\n",
        "]\n",
        "\n",
        "# 이름 및 성적 만 출력\n",
        "for    :\n",
        "    print(f'{name}의 성적: {grade}')"
      ]
    },
    {
      "cell_type": "code",
      "execution_count": null,
      "metadata": {
        "id": "oYTUmCiXzIvV",
        "outputId": "636f6e65-f3e9-40c8-b334-11caef7de24b",
        "colab": {
          "base_uri": "https://localhost:8080/"
        }
      },
      "outputs": [
        {
          "output_type": "stream",
          "name": "stdout",
          "text": [
            "20\n"
          ]
        }
      ],
      "source": [
        "def get_coordinates( ):\n",
        "    return (10, 20, 30)\n",
        "\n",
        "# 함수 return 값 언더스코어 사용\n",
        "_, y, _ = get_coordinates()\n",
        "\n",
        "print(y)"
      ]
    },
    {
      "cell_type": "markdown",
      "metadata": {
        "id": "bkA3HL5QzIvV"
      },
      "source": [
        "## 3-2 예외 처리"
      ]
    },
    {
      "cell_type": "code",
      "execution_count": null,
      "metadata": {
        "id": "IgUsqEAgzIvV"
      },
      "outputs": [],
      "source": [
        "number = int(input('정수를 입력하세요: '))\n",
        "result = 10 / number\n",
        "print(f'결과: {result}')"
      ]
    },
    {
      "cell_type": "code",
      "execution_count": null,
      "metadata": {
        "id": "sGaFzT-WzdQF"
      },
      "outputs": [],
      "source": [
        "# try 문\n",
        "try:\n",
        "    number = int(input('정수를 입력하세요: '))\n",
        "    result = 10 / number\n",
        "    print(f'결과: {result}')\n",
        "\n",
        "# except 문\n",
        "except ZeroDivisionError:\n",
        "    print('0으로 나눌 수 없습니다.')\n",
        "except ValueError:\n",
        "    print('유효한 숫자를 입력해야 합니다.ㅋㅋ')"
      ]
    },
    {
      "cell_type": "code",
      "execution_count": null,
      "metadata": {
        "id": "aJycqfJvzdGc"
      },
      "outputs": [],
      "source": [
        "# try 문\n",
        "number = int(input('숫자를 입력하세요: '))\n",
        "result = 10 / number\n",
        "\n",
        "# except 문 1\n",
        "print('유효한 숫자를 입력해야 합니다.')\n",
        "\n",
        "# except 문 2\n",
        "print('0으로 나눌 수 없습니다.')\n",
        "\n",
        "print(f'결과: {result}')"
      ]
    },
    {
      "cell_type": "code",
      "execution_count": null,
      "metadata": {
        "id": "lPcWWLiJ0ws4"
      },
      "outputs": [],
      "source": [
        "# try 문\n",
        "try:\n",
        "    file = open('data.csv', 'r')\n",
        "    content = file.read( )\n",
        "    print(content)\n",
        "\n",
        "# except 문\n",
        "print('파일을 찾을 수 없습니다.')\n",
        "\n",
        "# fianlly 블럭\n",
        "finally:\n",
        "    print('파일 작업 종료.')\n",
        "    file.close( )"
      ]
    },
    {
      "cell_type": "markdown",
      "metadata": {
        "id": "l0YVL4ArzIvV"
      },
      "source": [
        "## 3-3 함수형 프로그래밍"
      ]
    },
    {
      "cell_type": "code",
      "execution_count": null,
      "metadata": {
        "id": "Syg5knhezIvV",
        "outputId": "72c57f7b-cd57-4446-ea89-1fc9c1185fe5",
        "colab": {
          "base_uri": "https://localhost:8080/"
        }
      },
      "outputs": [
        {
          "output_type": "stream",
          "name": "stdout",
          "text": [
            "{'이지혜': 3300000.0000000005, '구민준': 5500000.0, '방서연': 4510000.0}\n"
          ]
        }
      ],
      "source": [
        "employees = {\n",
        "    '이지혜': 3000000,\n",
        "    '구민준': 5000000,\n",
        "    '방서연': 4100000\n",
        "}\n",
        "\n",
        "# 함수 정의: salary * 1.1\n",
        "adjust_salary = lambda salary: salary * 1.1\n",
        "updated_salaries = {name: adjust_salary(salary) for name, salary in employees.items()}\n",
        "# 급여 인상\n",
        "\n",
        "print(updated_salaries)"
      ]
    },
    {
      "cell_type": "code",
      "execution_count": null,
      "metadata": {
        "id": "KM0psbppzIvV",
        "outputId": "ecd2ed38-7f0b-44d3-c0da-b1092a431da9",
        "colab": {
          "base_uri": "https://localhost:8080/"
        }
      },
      "outputs": [
        {
          "output_type": "stream",
          "name": "stdout",
          "text": [
            "섭씨 온도 데이터: [25.6, 27.8, 30.5, 22.3, 28.9, 31.2, 24.7]\n",
            "화씨 온도로 변환: [78.08, 82.04, 86.9, 72.14, 84.02, 88.16, 76.46]\n"
          ]
        }
      ],
      "source": [
        "temperature_celsius = [25.6, 27.8, 30.5, 22.3, 28.9, 31.2, 24.7]\n",
        "\n",
        "# 함수 정의: 섭씨 -> 화씨\n",
        "cel_to_fah = lambda c: (c * 9/5) + 32\n",
        "# 온도 변환\n",
        "temperature_fahrenheit = list(map(cel_to_fah, temperature_celsius))\n",
        "\n",
        "print('섭씨 온도 데이터:', temperature_celsius)\n",
        "print('화씨 온도로 변환:', temperature_fahrenheit)"
      ]
    },
    {
      "cell_type": "code",
      "execution_count": null,
      "metadata": {
        "id": "rG3nqqfDzIvW"
      },
      "outputs": [],
      "source": [
        "words = ['python', 'data', 'analysis']\n",
        "\n",
        "# 함수 정의 및 대문자화\n",
        "\n",
        "\n",
        "print(uppercase_words)"
      ]
    },
    {
      "cell_type": "code",
      "execution_count": null,
      "metadata": {
        "id": "9tFlZojhzIvW"
      },
      "outputs": [],
      "source": [
        "employees = [\n",
        "    {'name': '김지원', 'salary': 3700000},\n",
        "    {'name': '박민준', 'salary': 7000000},\n",
        "    {'name': '이서연', 'salary': 4400000},\n",
        "    {'name': '정현우', 'salary': 3500000}\n",
        "]\n",
        "\n",
        "# salary * 1.1\n",
        "\n",
        "\n",
        "print('\\n급여 인상 후:')\n",
        "\n",
        "for emp in updated_employees:\n",
        "    print(f'{emp['name']}: {int(emp['salary']):,}원')"
      ]
    },
    {
      "cell_type": "code",
      "execution_count": null,
      "metadata": {
        "id": "WHQxVdiuzIvW"
      },
      "outputs": [],
      "source": [
        "numbers = [10, 15, 20, 25, 30]\n",
        "\n",
        "# 짝수 필터링\n",
        "\n",
        "\n",
        "print(even_numbers)"
      ]
    },
    {
      "cell_type": "code",
      "execution_count": null,
      "metadata": {
        "id": "1E-RQnBfzIvW",
        "outputId": "1c8bc669-a227-45c9-b13c-619b51bfb93f",
        "colab": {
          "base_uri": "https://localhost:8080/"
        }
      },
      "outputs": [
        {
          "output_type": "stream",
          "name": "stdout",
          "text": [
            "이름: 김지원, 점수: 85\n",
            "이름: 박서연, 점수: 90\n",
            "이름: 최예은, 점수: 78\n"
          ]
        }
      ],
      "source": [
        "osda_students = [\n",
        "    {'name': '김지원', 'score': 85},\n",
        "    {'name': '이민준', 'score': 65},\n",
        "    {'name': '박서연', 'score': 90},\n",
        "    {'name': '정현우', 'score': 55},\n",
        "    {'name': '최예은', 'score': 78}\n",
        "]\n",
        "\n",
        "# 70점 이상 학생 목록 생성\n",
        "passed_students = list(filter (lambda students: students['score'] >= 70, osda_students))\n",
        "\n",
        "for student in passed_students:\n",
        "    print(f'이름: {student[\"name\"]}, 점수: {student[\"score\"]}')"
      ]
    },
    {
      "cell_type": "code",
      "execution_count": null,
      "metadata": {
        "id": "1sVaIuwFzIvW",
        "outputId": "f6b24e38-b512-43a4-edc7-5e6d5eb566fc",
        "colab": {
          "base_uri": "https://localhost:8080/"
        }
      },
      "outputs": [
        {
          "output_type": "stream",
          "name": "stdout",
          "text": [
            "9\n"
          ]
        }
      ],
      "source": [
        "from functools import reduce\n",
        "\n",
        "numbers = [3, 7, 2, 9, 5]\n",
        "\n",
        "# 최대값 생성\n",
        "max_value = reduce(lambda x, y: x if x > y else y, numbers)\n",
        "\n",
        "print(max_value)"
      ]
    },
    {
      "cell_type": "code",
      "execution_count": 12,
      "metadata": {
        "outputId": "1b705f1e-d821-4044-f162-ea03173da927",
        "colab": {
          "base_uri": "https://localhost:8080/"
        },
        "id": "QRP_Ee-bMvkW"
      },
      "outputs": [
        {
          "output_type": "stream",
          "name": "stdout",
          "text": [
            "api 호출 성공\n",
            "{'energyUseDataSummaryInfo': {'list_total_count': 7, 'RESULT': {'CODE': 'INFO-000', 'MESSAGE': '정상 처리되었습니다'}, 'row': [{'YEAR': '2015', 'MON': '03', 'MM_TYPE': '학교', 'CNT': '3903', 'EUS': '145577747', 'EUS1': '140333207', 'EUS2': '148915260', 'ECO2_1': '673170', 'ECO2_2': '285424.08', 'GUS': '7601585', 'GUS1': '7048562', 'GUS2': '8350061', 'GCO2_1': '-97726.5', 'GCO2_2': '-218907.36', 'WUS': '2570265.8', 'WUS1': '2622179.4', 'WUS2': '2793577', 'WCO2_1': '-137612.4', 'WCO2_2': '-45687.3168', 'HUS': '48', 'HUS1': '34', 'HUS2': '41', 'HCO2_1': '10.5', 'HCO2_2': '41.811', 'REG_DATE': '2015-06-12 04:00:01.0'}, {'YEAR': '2015', 'MON': '03', 'MM_TYPE': '공공기관', 'CNT': '2048', 'EUS': '208343249', 'EUS1': '206515245', 'EUS2': '211942654', 'ECO2_1': '-13629158', 'ECO2_2': '-5778762.992', 'GUS': '8141963', 'GUS1': '7814746', 'GUS2': '9821117', 'GCO2_1': '-675968.5', 'GCO2_2': '-1514169.44', 'WUS': '1392249.2', 'WUS1': '1374222.8', 'WUS2': '1459810.8', 'WCO2_1': '-24767.6', 'WCO2_2': '-8222.8432', 'HUS': '0', 'HUS1': '0', 'HUS2': '0', 'HCO2_1': '0', 'HCO2_2': '0', 'REG_DATE': '2015-06-12 04:00:01.0'}, {'YEAR': '2015', 'MON': '03', 'MM_TYPE': '기업', 'CNT': '5334', 'EUS': '454517085', 'EUS1': '463464106', 'EUS2': '477564250', 'ECO2_1': '-16954537', 'ECO2_2': '-7188723.688', 'GUS': '21689961', 'GUS1': '20767213', 'GUS2': '26298201', 'GCO2_1': '-1842746', 'GCO2_2': '-4127751.04', 'WUS': '3992245', 'WUS1': '3999579', 'WUS2': '4116372.4', 'WCO2_1': '-65730.7', 'WCO2_2': '-21822.5924', 'HUS': '0', 'HUS1': '0', 'HUS2': '0', 'HCO2_1': '0', 'HCO2_2': '0', 'REG_DATE': '2015-06-12 04:00:01.0'}, {'YEAR': '2015', 'MON': '03', 'MM_TYPE': '소상공인', 'CNT': '12277', 'EUS': '46364443', 'EUS1': '46668562', 'EUS2': '48429447', 'ECO2_1': '-11152776', 'ECO2_2': '-4728777.024', 'GUS': '4535233', 'GUS1': '4422360', 'GUS2': '5707623', 'GCO2_1': '-529758.5', 'GCO2_2': '-1186659.04', 'WUS': '1381256.6', 'WUS1': '1405384.8', 'WUS2': '1488573.8', 'WCO2_1': '-65722.7', 'WCO2_2': '-21819.9364', 'HUS': '0', 'HUS1': '0', 'HUS2': '0', 'HCO2_1': '0', 'HCO2_2': '0', 'REG_DATE': '2015-06-12 04:00:01.0'}, {'YEAR': '2015', 'MON': '03', 'MM_TYPE': '종교단체', 'CNT': '227', 'EUS': '2819027', 'EUS1': '2752465', 'EUS2': '3096521', 'ECO2_1': '-732131', 'ECO2_2': '-310423.544', 'GUS': '303568', 'GUS1': '298193', 'GUS2': '374956', 'GCO2_1': '-33006.5', 'GCO2_2': '-73934.56', 'WUS': '23135', 'WUS1': '26200', 'WUS2': '28432', 'WCO2_1': '-4181', 'WCO2_2': '-1388.092', 'HUS': '0', 'HUS1': '0', 'HUS2': '0', 'HCO2_1': '0', 'HCO2_2': '0', 'REG_DATE': '2015-06-12 04:00:01.0'}]}}\n"
          ]
        }
      ],
      "source": [
        "import requests\n",
        "\n",
        "url = \"http://openapi.seoul.go.kr:8088/505a517a48786f7431334c6e53526e/json/energyUseDataSummaryInfo/1/5\"\n",
        "year = \"2015\"\n",
        "mon = \"03\"\n",
        "\n",
        "api_url = f\"{url}/{year}/{mon}/\"\n",
        "\n",
        "response = requests.get(api_url)\n",
        "\n",
        "if response.status_code == 200:\n",
        "    print(\"api 호출 성공\")\n",
        "    print(response.json())\n",
        "else:\n",
        "    print(f\"API 호출 실패: {response.status_code}\")"
      ]
    },
    {
      "cell_type": "code",
      "source": [
        "import requests\n",
        "\n",
        "API_KEY = \"505a517a48786f7431334c6e53526e\"\n",
        "SERVICE = \"energyUseDataSummaryInfo\"\n",
        "BASE = \"http://openapi.seoul.go.kr:8088\"\n",
        "\n",
        "results = []\n",
        "\n",
        "for YEAR in range(2015, 2024+1):\n",
        "    for MON in range(1, 12+1):\n",
        "\n",
        "url = f\"{BASE}/{API_KEY}/json/{SERVICE}/1/5/{YEAR}/{MON:02d}/\"\n",
        "\n",
        "        resp = requests.get(url)       # timeout 제거\n",
        "        resp.raise_for_status()\n",
        "\n",
        "        payload = resp.json()\n",
        "        block = payload[SERVICE]       # 기본값 처리 제거\n",
        "        rows = block[\"row\"]            # 기본값 처리 제거\n",
        "\n",
        "        # MM_TYPE == '개인'만 필터 (키 없으면 KeyError 발생)\n",
        "        rows_personal = [r for r in rows if str(r[\"MM_TYPE\"]).strip() == \"개인\"]\n",
        "\n",
        "        # 필요한 컬럼만 추출 (필드 없으면 KeyError 발생)\n",
        "        for r in rows_personal:\n",
        "            results.append({\n",
        "                \"YEAR\": YEAR,\n",
        "                \"MON\": f\"{MON:02d}\",\n",
        "                \"MM_TYPE\": r[\"MM_TYPE\"],\n",
        "                \"EUS\": r[\"EUS\"],  # 현년 전기사용량\n",
        "                \"GUS\": r[\"GUS\"],  # 현년 가스사용량\n",
        "                \"WUS\": r[\"WUS\"],  # 현년 수도사용량\n",
        "                \"HUS\": r[\"HUS\"],  # 현년 지역난방사용량\n",
        "            })\n",
        "\n",
        "print(f\"총 수집 건수: {len(results)}\")\n",
        "print(results[:300])  # 미리보기\n"
      ],
      "metadata": {
        "colab": {
          "base_uri": "https://localhost:8080/",
          "height": 111
        },
        "id": "FSWxetGme-2c",
        "outputId": "4c01ab00-9e3b-4176-f4f7-e2ee32c93f89"
      },
      "execution_count": null,
      "outputs": [
        {
          "output_type": "error",
          "ename": "IndentationError",
          "evalue": "expected an indented block after 'for' statement on line 10 (ipython-input-3106182958.py, line 12)",
          "traceback": [
            "\u001b[0;36m  File \u001b[0;32m\"/tmp/ipython-input-3106182958.py\"\u001b[0;36m, line \u001b[0;32m12\u001b[0m\n\u001b[0;31m    url = f\"{BASE}/{API_KEY}/json/{SERVICE}/1/5/{YEAR}/{MON:02d}/\"\u001b[0m\n\u001b[0m                                                                  ^\u001b[0m\n\u001b[0;31mIndentationError\u001b[0m\u001b[0;31m:\u001b[0m expected an indented block after 'for' statement on line 10\n"
          ]
        }
      ]
    },
    {
      "cell_type": "code",
      "source": [
        "import requests\n",
        "\n",
        "results = []\n",
        "\n",
        "for year in range(2015, 2025):\n",
        "    for mon in range(1, 13):\n",
        "        url = f\"http://openapi.seoul.go.kr:8088/505a517a48786f7431334c6e53526e/json/energyUseDataSummaryInfo/1/1000/{year}/{mon:02d}\"\n",
        "\n",
        "        response = requests.get(url)\n",
        "        response.raise_for_status()\n",
        "\n",
        "        data = response.json()[SERVICE][\"row\"]\n",
        "\n",
        "        for r in data:\n",
        "            if r[\"MM_TYPE\"].strip() == \"개인\":\n",
        "                results.append({\n",
        "                    \"YEAR\": year,\n",
        "                    \"MON\": f\"{mon:02d}\",\n",
        "                    \"MM_TYPE\": r[\"MM_TYPE\"],\n",
        "                    \"EUS\": r[\"EUS\"],\n",
        "                    \"GUS\": r[\"GUS\"],\n",
        "                    \"WUS\": r[\"WUS\"],\n",
        "                    \"HUS\": r[\"HUS\"],\n",
        "                    })\n",
        "\n",
        "print(f\"Data Count: {len(results)}\")\n",
        "print(results)"
      ],
      "metadata": {
        "colab": {
          "base_uri": "https://localhost:8080/",
          "height": 222
        },
        "id": "Mbtdu7_boP5i",
        "outputId": "0dff1a0e-e8a4-4e69-8b90-0e12a07d8c77"
      },
      "execution_count": 16,
      "outputs": [
        {
          "output_type": "error",
          "ename": "NameError",
          "evalue": "name 'SERVICE' is not defined",
          "traceback": [
            "\u001b[0;31m---------------------------------------------------------------------------\u001b[0m",
            "\u001b[0;31mNameError\u001b[0m                                 Traceback (most recent call last)",
            "\u001b[0;32m/tmp/ipython-input-1607845906.py\u001b[0m in \u001b[0;36m<cell line: 0>\u001b[0;34m()\u001b[0m\n\u001b[1;32m     10\u001b[0m         \u001b[0mresponse\u001b[0m\u001b[0;34m.\u001b[0m\u001b[0mraise_for_status\u001b[0m\u001b[0;34m(\u001b[0m\u001b[0;34m)\u001b[0m\u001b[0;34m\u001b[0m\u001b[0;34m\u001b[0m\u001b[0m\n\u001b[1;32m     11\u001b[0m \u001b[0;34m\u001b[0m\u001b[0m\n\u001b[0;32m---> 12\u001b[0;31m         \u001b[0mdata\u001b[0m \u001b[0;34m=\u001b[0m \u001b[0mresponse\u001b[0m\u001b[0;34m.\u001b[0m\u001b[0mjson\u001b[0m\u001b[0;34m(\u001b[0m\u001b[0;34m)\u001b[0m\u001b[0;34m[\u001b[0m\u001b[0mSERVICE\u001b[0m\u001b[0;34m]\u001b[0m\u001b[0;34m[\u001b[0m\u001b[0;34m\"row\"\u001b[0m\u001b[0;34m]\u001b[0m\u001b[0;34m\u001b[0m\u001b[0;34m\u001b[0m\u001b[0m\n\u001b[0m\u001b[1;32m     13\u001b[0m \u001b[0;34m\u001b[0m\u001b[0m\n\u001b[1;32m     14\u001b[0m         \u001b[0;32mfor\u001b[0m \u001b[0mr\u001b[0m \u001b[0;32min\u001b[0m \u001b[0mdata\u001b[0m\u001b[0;34m:\u001b[0m\u001b[0;34m\u001b[0m\u001b[0;34m\u001b[0m\u001b[0m\n",
            "\u001b[0;31mNameError\u001b[0m: name 'SERVICE' is not defined"
          ]
        }
      ]
    },
    {
      "cell_type": "code",
      "source": [
        "import requests\n",
        "import pandas as pd\n",
        "import matplotlib.pyplot as plt\n",
        "plt.rc('font', family='NanumBarunGothic')\n",
        "\n",
        "def mon_to_season(m):\n",
        "    m = str(m)\n",
        "    if m in {\"03\", \"04\", \"05\"}:\n",
        "        return \"봄\"\n",
        "    elif m in {\"06\", \"07\", \"08\"}:\n",
        "        return \"여름\"\n",
        "    elif m in {\"09\", \"10\", \"11\"}:\n",
        "        return \"가을\"\n",
        "    elif m in {\"12\",\"01\",\"02\"}:\n",
        "        return \"겨울\"\n",
        "    else:\n",
        "        return \"MONTH ERROR\"\n",
        "\n",
        "SERVICE = \"energyUseDataSummaryInfo\"\n",
        "results = []\n",
        "\n",
        "for year in range(2015, 2025):\n",
        "    for mon in range(1, 13):\n",
        "        url = f\"http://openapi.seoul.go.kr:8088/505a517a48786f7431334c6e53526e/json/energyUseDataSummaryInfo/1/1000/{year}/{mon:02d}\"\n",
        "\n",
        "        response = requests.get(url)\n",
        "        response.raise_for_status()\n",
        "\n",
        "        data = response.json()[SERVICE][\"row\"]\n",
        "\n",
        "        for r in data:\n",
        "            if r[\"MM_TYPE\"].strip() == \"개인\":\n",
        "                results.append({\n",
        "                    \"YEAR\": year,\n",
        "                    \"MON\": f\"{mon:02d}\",\n",
        "                    \"MM_TYPE\": r[\"MM_TYPE\"],\n",
        "                    \"EUS\": r[\"EUS\"],\n",
        "                    \"GUS\": r[\"GUS\"],\n",
        "                    \"WUS\": r[\"WUS\"],\n",
        "                    \"HUS\": r[\"HUS\"],\n",
        "                    })\n",
        "\n",
        "df = pd.DataFrame(results)\n",
        "\n",
        "df.insert(2, \"SEASON\", df[\"MON\"].apply(mon_to_season))\n",
        "\n",
        "gas_usage = [\"GUS\"]\n",
        "df[gas_usage] = df[gas_usage].apply(pd.to_numeric)\n",
        "\n",
        "season_gas_mean = df.groupby(\"SEASON\")[gas_usage].mean()\n",
        "season_gas_mean = season_gas_mean.reset_index()\n",
        "\n",
        "categories = season_gas_mean[\"SEASON\"]\n",
        "values = season_gas_mean[\"GUS\"]\n",
        "\n",
        "plt.bar_label(plt.bar(categories, values), fmt=\"%.0f\", padding=1)\n",
        "\n",
        "plt.title('계절별 평균 가스 사용량 - 4472')\n",
        "plt.show()"
      ],
      "metadata": {
        "id": "mlgGrtHYHSDY",
        "outputId": "13478069-88b8-4ac4-d183-ad38635b3543",
        "colab": {
          "base_uri": "https://localhost:8080/",
          "height": 451
        }
      },
      "execution_count": 7,
      "outputs": [
        {
          "output_type": "display_data",
          "data": {
            "text/plain": [
              "<Figure size 640x480 with 1 Axes>"
            ],
            "image/png": "[encoded data removed]"
          },
          "metadata": {}
        }
      ]
    },
    {
      "cell_type": "code",
      "source": [
        "#!sudo apt-get install -y fonts-nanum\n",
        "!sudo fc-cache -fv\n",
        "!rm ~/.cache/matplotlib -rf"
      ],
      "metadata": {
        "id": "oD65HXqQ-C1a",
        "outputId": "f249d766-4c68-47a6-d57f-98aa262891e5",
        "colab": {
          "base_uri": "https://localhost:8080/"
        }
      },
      "execution_count": 68,
      "outputs": [
        {
          "output_type": "stream",
          "name": "stdout",
          "text": [
            "Reading package lists... Done\n",
            "Building dependency tree... Done\n",
            "Reading state information... Done\n",
            "The following NEW packages will be installed:\n",
            "  fonts-nanum\n",
            "0 upgraded, 1 newly installed, 0 to remove and 38 not upgraded.\n",
            "Need to get 10.3 MB of archives.\n",
            "After this operation, 34.1 MB of additional disk space will be used.\n",
            "Get:1 http://archive.ubuntu.com/ubuntu jammy/universe amd64 fonts-nanum all 20200506-1 [10.3 MB]\n",
            "Fetched 10.3 MB in 0s (47.4 MB/s)\n",
            "debconf: unable to initialize frontend: Dialog\n",
            "debconf: (No usable dialog-like program is installed, so the dialog based frontend cannot be used. at /usr/share/perl5/Debconf/FrontEnd/Dialog.pm line 78, <> line 1.)\n",
            "debconf: falling back to frontend: Readline\n",
            "debconf: unable to initialize frontend: Readline\n",
            "debconf: (This frontend requires a controlling tty.)\n",
            "debconf: falling back to frontend: Teletype\n",
            "dpkg-preconfigure: unable to re-open stdin: \n",
            "Selecting previously unselected package fonts-nanum.\n",
            "(Reading database ... 126675 files and directories currently installed.)\n",
            "Preparing to unpack .../fonts-nanum_20200506-1_all.deb ...\n",
            "Unpacking fonts-nanum (20200506-1) ...\n",
            "Setting up fonts-nanum (20200506-1) ...\n",
            "Processing triggers for fontconfig (2.13.1-4.2ubuntu5) ...\n",
            "/usr/share/fonts: caching, new cache contents: 0 fonts, 1 dirs\n",
            "/usr/share/fonts/truetype: caching, new cache contents: 0 fonts, 3 dirs\n",
            "/usr/share/fonts/truetype/humor-sans: caching, new cache contents: 1 fonts, 0 dirs\n",
            "/usr/share/fonts/truetype/liberation: caching, new cache contents: 16 fonts, 0 dirs\n",
            "/usr/share/fonts/truetype/nanum: caching, new cache contents: 12 fonts, 0 dirs\n",
            "/usr/local/share/fonts: caching, new cache contents: 0 fonts, 0 dirs\n",
            "/root/.local/share/fonts: skipping, no such directory\n",
            "/root/.fonts: skipping, no such directory\n",
            "/usr/share/fonts/truetype: skipping, looped directory detected\n",
            "/usr/share/fonts/truetype/humor-sans: skipping, looped directory detected\n",
            "/usr/share/fonts/truetype/liberation: skipping, looped directory detected\n",
            "/usr/share/fonts/truetype/nanum: skipping, looped directory detected\n",
            "/var/cache/fontconfig: cleaning cache directory\n",
            "/root/.cache/fontconfig: not cleaning non-existent cache directory\n",
            "/root/.fontconfig: not cleaning non-existent cache directory\n",
            "fc-cache: succeeded\n"
          ]
        }
      ]
    },
    {
      "cell_type": "code",
      "source": [
        "import requests\n",
        "import pandas as pd\n",
        "import matplotlib.pyplot as plt\n",
        "plt.rc('font', family='NanumBarunGothic')\n",
        "\n",
        "def mon_to_season(m):\n",
        "    m = str(m)\n",
        "    if m in {\"03\", \"04\", \"05\"}:\n",
        "        return \"봄\"\n",
        "    elif m in {\"06\", \"07\", \"08\"}:\n",
        "        return \"여름\"\n",
        "    elif m in {\"09\", \"10\", \"11\"}:\n",
        "        return \"가을\"\n",
        "    elif m in {\"12\",\"01\",\"02\"}:\n",
        "        return \"겨울\"\n",
        "    else:\n",
        "        return \"MONTH ERROR\"\n",
        "\n",
        "SERVICE = \"energyUseDataSummaryInfo\"\n",
        "results = []\n",
        "\n",
        "for year in range(2015, 2025):\n",
        "    for mon in range(1, 13):\n",
        "        url = f\"http://openapi.seoul.go.kr:8088/505a517a48786f7431334c6e53526e/json/energyUseDataSummaryInfo/1/1000/{year}/{mon:02d}\"\n",
        "\n",
        "        response = requests.get(url)\n",
        "        response.raise_for_status()\n",
        "\n",
        "        data = response.json()[SERVICE][\"row\"]\n",
        "\n",
        "        for r in data:\n",
        "            if r[\"MM_TYPE\"].strip() == \"개인\":\n",
        "                results.append({\n",
        "                    \"YEAR\": year,\n",
        "                    \"MON\": f\"{mon:02d}\",\n",
        "                    \"MM_TYPE\": r[\"MM_TYPE\"],\n",
        "                    \"EUS\": r[\"EUS\"],\n",
        "                    \"GUS\": r[\"GUS\"],\n",
        "                    \"WUS\": r[\"WUS\"],\n",
        "                    \"HUS\": r[\"HUS\"],\n",
        "                    })\n",
        "\n",
        "df = pd.DataFrame(results)\n",
        "\n",
        "df.insert(2, \"SEASON\", df[\"MON\"].apply(mon_to_season))\n",
        "\n",
        "energy_usage = [\"EUS\", \"GUS\", \"WUS\", \"HUS\"]\n",
        "df[energy_usage] = df[energy_usage].apply(pd.to_numeric)\n",
        "\n",
        "year_sum = df.groupby(\"YEAR\")[energy_usage].sum()\n",
        "year_sum[\"energy_usage_sum\"] = year_sum.sum(axis=1)\n",
        "year_sum = year_sum.reset_index()\n",
        "\n",
        "x = year_sum[\"YEAR\"]\n",
        "y = year_sum[\"energy_usage_sum\"]\n",
        "\n",
        "plt.plot(x,y)\n",
        "plt.title('연도별 에너지 사용량 - 4472')\n",
        "plt.show()"
      ],
      "metadata": {
        "id": "KuSJuny4WUYw",
        "outputId": "52565adf-e85b-42b9-ce16-d6ebacfaef12",
        "colab": {
          "base_uri": "https://localhost:8080/",
          "height": 451
        }
      },
      "execution_count": 3,
      "outputs": [
        {
          "output_type": "display_data",
          "data": {
            "text/plain": [
              "<Figure size 640x480 with 1 Axes>"
            ],
            "image/png": "[encoded data removed]"
          },
          "metadata": {}
        }
      ]
    },
    {
      "cell_type": "code",
      "source": [],
      "metadata": {
        "id": "1E8zYZunfTFw"
      },
      "execution_count": null,
      "outputs": []
    }
  ],
  "metadata": {
    "colab": {
      "provenance": [],
      "include_colab_link": true
    },
    "kernelspec": {
      "display_name": "Python 3",
      "name": "python3"
    },
    "language_info": {
      "name": "python"
    }
  },
  "nbformat": 4,
  "nbformat_minor": 0
}