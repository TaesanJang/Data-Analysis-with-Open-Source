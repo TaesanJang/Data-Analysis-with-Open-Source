{
  "cells": [
    {
      "cell_type": "markdown",
      "metadata": {
        "id": "view-in-github",
        "colab_type": "text"
      },
      "source": [
        "<a href=\"https://colab.research.google.com/github/TaesanJang/Data-Analysis-with-Open-Source/blob/main/%EC%98%A4%ED%94%88%EC%86%8C%EC%8A%A4_%EB%8D%B0%EC%9D%B4%ED%84%B0_%EB%B6%84%EC%84%9D_3%EA%B0%95.ipynb\" target=\"_parent\"><img src=\"https://colab.research.google.com/assets/colab-badge.svg\" alt=\"Open In Colab\"/></a>"
      ]
    },
    {
      "cell_type": "markdown",
      "metadata": {
        "id": "DkPKaAsoRq5Q"
      },
      "source": [
        "\n",
        "\n",
        "# 오픈소스 기반 데이터 분석 3강 - 데이터 분석을 위한 파이썬 2\n"
      ]
    },
    {
      "cell_type": "markdown",
      "metadata": {
        "id": "-I7BVVlnRrB0"
      },
      "source": [
        "## 3-1 언패킹"
      ]
    },
    {
      "cell_type": "code",
      "execution_count": null,
      "metadata": {
        "id": "2Y2HEiaiRwAI"
      },
      "outputs": [],
      "source": [
        "coordinates = (10, 20)\n",
        "x, y = coordinates\n",
        "# 튜플 언패킹\n",
        "\n",
        "print(f'x좌표: {x}, y좌표: {y}')\n",
        "\n",
        "rgb = [255, 128, 0]\n",
        "# 리스트 언패킹\n",
        "\n",
        "print(f'빨강: {red}, 초록: {green}, 파랑: {blue}')\n",
        "\n",
        "word = 'ABC'\n",
        "# 문자열 언패킹\n",
        "\n",
        "print(f'첫 번째 문자: {first}, 두 번째 문자: {second}, 세 번째 문자: {third}')"
      ]
    },
    {
      "cell_type": "code",
      "execution_count": null,
      "metadata": {
        "id": "IO8bsKekR0W_",
        "outputId": "cf27dc4e-1e79-4300-d74c-ab96ba96818a",
        "colab": {
          "base_uri": "https://localhost:8080/"
        }
      },
      "outputs": [
        {
          "output_type": "stream",
          "name": "stdout",
          "text": [
            "최솟값: 5, 최댓값: 32, 평균: 15.57\n"
          ]
        }
      ],
      "source": [
        "def get_dataset_stats(values):\n",
        "  return min(values), max(values), sum(values) / len(values)\n",
        "\n",
        "data = [12, 8, 21, 17, 5, 32, 14]\n",
        "\n",
        "# 함수값 return 언패킹\n",
        "minimum, maximum, average = get_dataset_stats(data)\n",
        "print(f'최솟값: {minimum}, 최댓값: {maximum}, 평균: {average:.2f}')"
      ]
    },
    {
      "cell_type": "code",
      "execution_count": null,
      "metadata": {
        "id": "60qOf7uxVdAg",
        "outputId": "83d1da2f-ac4e-4466-fd82-8571c570a5ba",
        "colab": {
          "base_uri": "https://localhost:8080/"
        }
      },
      "outputs": [
        {
          "output_type": "stream",
          "name": "stdout",
          "text": [
            "김철수의 평균 점수: 85.0\n",
            "이영희의 평균 점수: 91.7\n",
            "박지민의 평균 점수: 82.7\n"
          ]
        }
      ],
      "source": [
        "student_scores = [\n",
        "    ('김철수', 85, 92, 78),\n",
        "    ('이영희', 92, 88, 95),\n",
        "    ('박지민', 75, 83, 90)\n",
        "]\n",
        "\n",
        "# 반복문에서 언패킹 사용\n",
        "for name, database, python, cloud in student_scores:\n",
        "  average = (database + python + cloud) / 3\n",
        "  print(f'{name}의 평균 점수: {average:.1f}')"
      ]
    },
    {
      "cell_type": "code",
      "execution_count": null,
      "metadata": {
        "id": "JpmgdsW9V0CY",
        "outputId": "11c006c1-a496-401b-ca0d-7007358af41c",
        "colab": {
          "base_uri": "https://localhost:8080/"
        }
      },
      "outputs": [
        {
          "output_type": "stream",
          "name": "stdout",
          "text": [
            "1월 판매액: 1200\n",
            "2월 판매액: 1350\n",
            "나머지 월 판매액: [1420, 1500, 1300, 1580, 1620, 1700, 1800, 1850, 1900, 2000]\n",
            "첫 달(1월) 판매액: 1200\n",
            "마지막 달(12월) 판매액: 2000\n",
            "중간 달(2~11월)의 판매액: [1350, 1420, 1500, 1300, 1580, 1620, 1700, 1800, 1850, 1900]\n"
          ]
        }
      ],
      "source": [
        "monthly_sales = [1200, 1350, 1420, 1500, 1300, 1580, 1620, 1700, 1800, 1850, 1900, 2000]\n",
        "\n",
        "# 1월, 2월 및 나머지 월 매출액\n",
        "first, second, *remaining = monthly_sales\n",
        "print(f'1월 판매액: {first}')\n",
        "print(f'2월 판매액: {second}')\n",
        "print(f'나머지 월 판매액: {remaining}')\n",
        "\n",
        "# 1월, 12월 및 나머지 월 매출액\n",
        "first, *middle, last = monthly_sales\n",
        "print(f'첫 달(1월) 판매액: {first}')\n",
        "print(f'마지막 달(12월) 판매액: {last}')\n",
        "print(f'중간 달(2~11월)의 판매액: {middle}')"
      ]
    },
    {
      "cell_type": "markdown",
      "metadata": {
        "id": "RLfPaa1ZiqIC"
      },
      "source": [
        "## 3-5 언더스코어"
      ]
    },
    {
      "cell_type": "code",
      "execution_count": null,
      "metadata": {
        "id": "cRC8x3_iW0im"
      },
      "outputs": [],
      "source": [
        "students = [\n",
        "    (20251234, '김철수', '컴퓨터과학', 2, 3.8),\n",
        "    (20265678, '이영희', '생활과학부', 3, 4.2),\n",
        "    (20243456, '박민수', '사회복지학과', 1, 3.5)\n",
        "]\n",
        "\n",
        "# 이름 및 성적 만 출력\n",
        "for    :\n",
        "    print(f'{name}의 성적: {grade}')"
      ]
    },
    {
      "cell_type": "code",
      "execution_count": null,
      "metadata": {
        "id": "oYTUmCiXzIvV",
        "outputId": "636f6e65-f3e9-40c8-b334-11caef7de24b",
        "colab": {
          "base_uri": "https://localhost:8080/"
        }
      },
      "outputs": [
        {
          "output_type": "stream",
          "name": "stdout",
          "text": [
            "20\n"
          ]
        }
      ],
      "source": [
        "def get_coordinates( ):\n",
        "    return (10, 20, 30)\n",
        "\n",
        "# 함수 return 값 언더스코어 사용\n",
        "_, y, _ = get_coordinates()\n",
        "\n",
        "print(y)"
      ]
    },
    {
      "cell_type": "markdown",
      "metadata": {
        "id": "bkA3HL5QzIvV"
      },
      "source": [
        "## 3-2 예외 처리"
      ]
    },
    {
      "cell_type": "code",
      "execution_count": null,
      "metadata": {
        "id": "IgUsqEAgzIvV"
      },
      "outputs": [],
      "source": [
        "number = int(input('정수를 입력하세요: '))\n",
        "result = 10 / number\n",
        "print(f'결과: {result}')"
      ]
    },
    {
      "cell_type": "code",
      "execution_count": null,
      "metadata": {
        "id": "sGaFzT-WzdQF"
      },
      "outputs": [],
      "source": [
        "# try 문\n",
        "try:\n",
        "    number = int(input('정수를 입력하세요: '))\n",
        "    result = 10 / number\n",
        "    print(f'결과: {result}')\n",
        "\n",
        "# except 문\n",
        "except ZeroDivisionError:\n",
        "    print('0으로 나눌 수 없습니다.')\n",
        "except ValueError:\n",
        "    print('유효한 숫자를 입력해야 합니다.ㅋㅋ')"
      ]
    },
    {
      "cell_type": "code",
      "execution_count": null,
      "metadata": {
        "id": "aJycqfJvzdGc"
      },
      "outputs": [],
      "source": [
        "# try 문\n",
        "number = int(input('숫자를 입력하세요: '))\n",
        "result = 10 / number\n",
        "\n",
        "# except 문 1\n",
        "print('유효한 숫자를 입력해야 합니다.')\n",
        "\n",
        "# except 문 2\n",
        "print('0으로 나눌 수 없습니다.')\n",
        "\n",
        "print(f'결과: {result}')"
      ]
    },
    {
      "cell_type": "code",
      "execution_count": null,
      "metadata": {
        "id": "lPcWWLiJ0ws4"
      },
      "outputs": [],
      "source": [
        "# try 문\n",
        "try:\n",
        "    file = open('data.csv', 'r')\n",
        "    content = file.read( )\n",
        "    print(content)\n",
        "\n",
        "# except 문\n",
        "print('파일을 찾을 수 없습니다.')\n",
        "\n",
        "# fianlly 블럭\n",
        "finally:\n",
        "    print('파일 작업 종료.')\n",
        "    file.close( )"
      ]
    },
    {
      "cell_type": "markdown",
      "metadata": {
        "id": "l0YVL4ArzIvV"
      },
      "source": [
        "## 3-3 함수형 프로그래밍"
      ]
    },
    {
      "cell_type": "code",
      "execution_count": null,
      "metadata": {
        "id": "Syg5knhezIvV",
        "outputId": "72c57f7b-cd57-4446-ea89-1fc9c1185fe5",
        "colab": {
          "base_uri": "https://localhost:8080/"
        }
      },
      "outputs": [
        {
          "output_type": "stream",
          "name": "stdout",
          "text": [
            "{'이지혜': 3300000.0000000005, '구민준': 5500000.0, '방서연': 4510000.0}\n"
          ]
        }
      ],
      "source": [
        "employees = {\n",
        "    '이지혜': 3000000,\n",
        "    '구민준': 5000000,\n",
        "    '방서연': 4100000\n",
        "}\n",
        "\n",
        "# 함수 정의: salary * 1.1\n",
        "adjust_salary = lambda salary: salary * 1.1\n",
        "updated_salaries = {name: adjust_salary(salary) for name, salary in employees.items()}\n",
        "# 급여 인상\n",
        "\n",
        "print(updated_salaries)"
      ]
    },
    {
      "cell_type": "code",
      "execution_count": null,
      "metadata": {
        "id": "KM0psbppzIvV",
        "outputId": "ecd2ed38-7f0b-44d3-c0da-b1092a431da9",
        "colab": {
          "base_uri": "https://localhost:8080/"
        }
      },
      "outputs": [
        {
          "output_type": "stream",
          "name": "stdout",
          "text": [
            "섭씨 온도 데이터: [25.6, 27.8, 30.5, 22.3, 28.9, 31.2, 24.7]\n",
            "화씨 온도로 변환: [78.08, 82.04, 86.9, 72.14, 84.02, 88.16, 76.46]\n"
          ]
        }
      ],
      "source": [
        "temperature_celsius = [25.6, 27.8, 30.5, 22.3, 28.9, 31.2, 24.7]\n",
        "\n",
        "# 함수 정의: 섭씨 -> 화씨\n",
        "cel_to_fah = lambda c: (c * 9/5) + 32\n",
        "# 온도 변환\n",
        "temperature_fahrenheit = list(map(cel_to_fah, temperature_celsius))\n",
        "\n",
        "print('섭씨 온도 데이터:', temperature_celsius)\n",
        "print('화씨 온도로 변환:', temperature_fahrenheit)"
      ]
    },
    {
      "cell_type": "code",
      "execution_count": null,
      "metadata": {
        "id": "rG3nqqfDzIvW"
      },
      "outputs": [],
      "source": [
        "words = ['python', 'data', 'analysis']\n",
        "\n",
        "# 함수 정의 및 대문자화\n",
        "\n",
        "\n",
        "print(uppercase_words)"
      ]
    },
    {
      "cell_type": "code",
      "execution_count": null,
      "metadata": {
        "id": "9tFlZojhzIvW"
      },
      "outputs": [],
      "source": [
        "employees = [\n",
        "    {'name': '김지원', 'salary': 3700000},\n",
        "    {'name': '박민준', 'salary': 7000000},\n",
        "    {'name': '이서연', 'salary': 4400000},\n",
        "    {'name': '정현우', 'salary': 3500000}\n",
        "]\n",
        "\n",
        "# salary * 1.1\n",
        "\n",
        "\n",
        "print('\\n급여 인상 후:')\n",
        "\n",
        "for emp in updated_employees:\n",
        "    print(f'{emp['name']}: {int(emp['salary']):,}원')"
      ]
    },
    {
      "cell_type": "code",
      "execution_count": null,
      "metadata": {
        "id": "WHQxVdiuzIvW"
      },
      "outputs": [],
      "source": [
        "numbers = [10, 15, 20, 25, 30]\n",
        "\n",
        "# 짝수 필터링\n",
        "\n",
        "\n",
        "print(even_numbers)"
      ]
    },
    {
      "cell_type": "code",
      "execution_count": null,
      "metadata": {
        "id": "1E-RQnBfzIvW",
        "outputId": "1c8bc669-a227-45c9-b13c-619b51bfb93f",
        "colab": {
          "base_uri": "https://localhost:8080/"
        }
      },
      "outputs": [
        {
          "output_type": "stream",
          "name": "stdout",
          "text": [
            "이름: 김지원, 점수: 85\n",
            "이름: 박서연, 점수: 90\n",
            "이름: 최예은, 점수: 78\n"
          ]
        }
      ],
      "source": [
        "osda_students = [\n",
        "    {'name': '김지원', 'score': 85},\n",
        "    {'name': '이민준', 'score': 65},\n",
        "    {'name': '박서연', 'score': 90},\n",
        "    {'name': '정현우', 'score': 55},\n",
        "    {'name': '최예은', 'score': 78}\n",
        "]\n",
        "\n",
        "# 70점 이상 학생 목록 생성\n",
        "passed_students = list(filter (lambda students: students['score'] >= 70, osda_students))\n",
        "\n",
        "for student in passed_students:\n",
        "    print(f'이름: {student[\"name\"]}, 점수: {student[\"score\"]}')"
      ]
    },
    {
      "cell_type": "code",
      "execution_count": null,
      "metadata": {
        "id": "1sVaIuwFzIvW",
        "outputId": "f6b24e38-b512-43a4-edc7-5e6d5eb566fc",
        "colab": {
          "base_uri": "https://localhost:8080/"
        }
      },
      "outputs": [
        {
          "output_type": "stream",
          "name": "stdout",
          "text": [
            "9\n"
          ]
        }
      ],
      "source": [
        "from functools import reduce\n",
        "\n",
        "numbers = [3, 7, 2, 9, 5]\n",
        "\n",
        "# 최대값 생성\n",
        "max_value = reduce(lambda x, y: x if x > y else y, numbers)\n",
        "\n",
        "print(max_value)"
      ]
    },
    {
      "cell_type": "code",
      "execution_count": 5,
      "metadata": {
        "outputId": "3b473d44-1504-4950-c01c-e248c74a3122",
        "colab": {
          "base_uri": "https://localhost:8080/"
        },
        "id": "QRP_Ee-bMvkW"
      },
      "outputs": [
        {
          "output_type": "stream",
          "name": "stdout",
          "text": [
            "api 호출 성공\n",
            "{'energyUseDataSummaryInfo': {'list_total_count': 7, 'RESULT': {'CODE': 'INFO-000', 'MESSAGE': '정상 처리되었습니다'}, 'row': [{'YEAR': '2015', 'MON': '03', 'MM_TYPE': '학교', 'CNT': '3903', 'EUS': '145577747', 'EUS1': '140333207', 'EUS2': '148915260', 'ECO2_1': '673170', 'ECO2_2': '285424.08', 'GUS': '7601585', 'GUS1': '7048562', 'GUS2': '8350061', 'GCO2_1': '-97726.5', 'GCO2_2': '-218907.36', 'WUS': '2570265.8', 'WUS1': '2622179.4', 'WUS2': '2793577', 'WCO2_1': '-137612.4', 'WCO2_2': '-45687.3168', 'HUS': '48', 'HUS1': '34', 'HUS2': '41', 'HCO2_1': '10.5', 'HCO2_2': '41.811', 'REG_DATE': '2015-06-12 04:00:01.0'}, {'YEAR': '2015', 'MON': '03', 'MM_TYPE': '공공기관', 'CNT': '2048', 'EUS': '208343249', 'EUS1': '206515245', 'EUS2': '211942654', 'ECO2_1': '-13629158', 'ECO2_2': '-5778762.992', 'GUS': '8141963', 'GUS1': '7814746', 'GUS2': '9821117', 'GCO2_1': '-675968.5', 'GCO2_2': '-1514169.44', 'WUS': '1392249.2', 'WUS1': '1374222.8', 'WUS2': '1459810.8', 'WCO2_1': '-24767.6', 'WCO2_2': '-8222.8432', 'HUS': '0', 'HUS1': '0', 'HUS2': '0', 'HCO2_1': '0', 'HCO2_2': '0', 'REG_DATE': '2015-06-12 04:00:01.0'}, {'YEAR': '2015', 'MON': '03', 'MM_TYPE': '기업', 'CNT': '5334', 'EUS': '454517085', 'EUS1': '463464106', 'EUS2': '477564250', 'ECO2_1': '-16954537', 'ECO2_2': '-7188723.688', 'GUS': '21689961', 'GUS1': '20767213', 'GUS2': '26298201', 'GCO2_1': '-1842746', 'GCO2_2': '-4127751.04', 'WUS': '3992245', 'WUS1': '3999579', 'WUS2': '4116372.4', 'WCO2_1': '-65730.7', 'WCO2_2': '-21822.5924', 'HUS': '0', 'HUS1': '0', 'HUS2': '0', 'HCO2_1': '0', 'HCO2_2': '0', 'REG_DATE': '2015-06-12 04:00:01.0'}, {'YEAR': '2015', 'MON': '03', 'MM_TYPE': '소상공인', 'CNT': '12277', 'EUS': '46364443', 'EUS1': '46668562', 'EUS2': '48429447', 'ECO2_1': '-11152776', 'ECO2_2': '-4728777.024', 'GUS': '4535233', 'GUS1': '4422360', 'GUS2': '5707623', 'GCO2_1': '-529758.5', 'GCO2_2': '-1186659.04', 'WUS': '1381256.6', 'WUS1': '1405384.8', 'WUS2': '1488573.8', 'WCO2_1': '-65722.7', 'WCO2_2': '-21819.9364', 'HUS': '0', 'HUS1': '0', 'HUS2': '0', 'HCO2_1': '0', 'HCO2_2': '0', 'REG_DATE': '2015-06-12 04:00:01.0'}, {'YEAR': '2015', 'MON': '03', 'MM_TYPE': '종교단체', 'CNT': '227', 'EUS': '2819027', 'EUS1': '2752465', 'EUS2': '3096521', 'ECO2_1': '-732131', 'ECO2_2': '-310423.544', 'GUS': '303568', 'GUS1': '298193', 'GUS2': '374956', 'GCO2_1': '-33006.5', 'GCO2_2': '-73934.56', 'WUS': '23135', 'WUS1': '26200', 'WUS2': '28432', 'WCO2_1': '-4181', 'WCO2_2': '-1388.092', 'HUS': '0', 'HUS1': '0', 'HUS2': '0', 'HCO2_1': '0', 'HCO2_2': '0', 'REG_DATE': '2015-06-12 04:00:01.0'}]}}\n"
          ]
        }
      ],
      "source": [
        "import requests\n",
        "\n",
        "url = \"http://openapi.seoul.go.kr:8088/505a517a48786f7431334c6e53526e/json/energyUseDataSummaryInfo/1/5\"\n",
        "year = \"2015\"\n",
        "mon = \"03\"\n",
        "\n",
        "api_url = f\"{url}/{year}/{mon}/\"\n",
        "\n",
        "response = requests.get(api_url)\n",
        "\n",
        "if response.status_code == 200:\n",
        "    print(\"api 호출 성공\")\n",
        "    print(response.json())\n",
        "else:\n",
        "    print(f\"API 호출 실패: {response.status_code}\")"
      ]
    },
    {
      "cell_type": "code",
      "source": [
        "import requests\n",
        "\n",
        "API_KEY = \"505a517a48786f7431334c6e53526e\"\n",
        "SERVICE = \"energyUseDataSummaryInfo\"\n",
        "BASE = \"http://openapi.seoul.go.kr:8088\"\n",
        "\n",
        "results = []\n",
        "\n",
        "for YEAR in range(2015, 2024+1):\n",
        "    for MON in range(1, 12+1):\n",
        "\n",
        "url = f\"{BASE}/{API_KEY}/json/{SERVICE}/1/5/{YEAR}/{MON:02d}/\"\n",
        "\n",
        "        resp = requests.get(url)       # timeout 제거\n",
        "        resp.raise_for_status()\n",
        "\n",
        "        payload = resp.json()\n",
        "        block = payload[SERVICE]       # 기본값 처리 제거\n",
        "        rows = block[\"row\"]            # 기본값 처리 제거\n",
        "\n",
        "        # MM_TYPE == '개인'만 필터 (키 없으면 KeyError 발생)\n",
        "        rows_personal = [r for r in rows if str(r[\"MM_TYPE\"]).strip() == \"개인\"]\n",
        "\n",
        "        # 필요한 컬럼만 추출 (필드 없으면 KeyError 발생)\n",
        "        for r in rows_personal:\n",
        "            results.append({\n",
        "                \"YEAR\": YEAR,\n",
        "                \"MON\": f\"{MON:02d}\",\n",
        "                \"MM_TYPE\": r[\"MM_TYPE\"],\n",
        "                \"EUS\": r[\"EUS\"],  # 현년 전기사용량\n",
        "                \"GUS\": r[\"GUS\"],  # 현년 가스사용량\n",
        "                \"WUS\": r[\"WUS\"],  # 현년 수도사용량\n",
        "                \"HUS\": r[\"HUS\"],  # 현년 지역난방사용량\n",
        "            })\n",
        "\n",
        "print(f\"총 수집 건수: {len(results)}\")\n",
        "print(results[:300])  # 미리보기\n"
      ],
      "metadata": {
        "colab": {
          "base_uri": "https://localhost:8080/",
          "height": 110
        },
        "id": "FSWxetGme-2c",
        "outputId": "4c01ab00-9e3b-4176-f4f7-e2ee32c93f89"
      },
      "execution_count": 33,
      "outputs": [
        {
          "output_type": "error",
          "ename": "IndentationError",
          "evalue": "expected an indented block after 'for' statement on line 10 (ipython-input-3106182958.py, line 12)",
          "traceback": [
            "\u001b[0;36m  File \u001b[0;32m\"/tmp/ipython-input-3106182958.py\"\u001b[0;36m, line \u001b[0;32m12\u001b[0m\n\u001b[0;31m    url = f\"{BASE}/{API_KEY}/json/{SERVICE}/1/5/{YEAR}/{MON:02d}/\"\u001b[0m\n\u001b[0m                                                                  ^\u001b[0m\n\u001b[0;31mIndentationError\u001b[0m\u001b[0;31m:\u001b[0m expected an indented block after 'for' statement on line 10\n"
          ]
        }
      ]
    },
    {
      "cell_type": "code",
      "source": [
        "import requests\n",
        "\n",
        "API_KEY = \"505a517a48786f7431334c6e53526e\"\n",
        "SERVICE = \"energyUseDataSummaryInfo\"\n",
        "BASE = \"http://openapi.seoul.go.kr:8088\"\n",
        "\n",
        "results = []\n",
        "\n",
        "# 2015-01 ~ 2024-12 반복\n",
        "for YEAR in range(2015, 2025):       # 2015..2024\n",
        "    for MON in range(1, 13):          # 01..12\n",
        "        # URL에 START/END를 변수 없이 고정값(1/1000)으로 직접 기입\n",
        "        url = f\"{BASE}/{API_KEY}/json/{SERVICE}/1/5/{YEAR}/{MON:02d}\"\n",
        "\n",
        "        resp = requests.get(url)       # timeout 제거\n",
        "        resp.raise_for_status()\n",
        "\n",
        "        payload = resp.json()\n",
        "        block = payload[SERVICE]       # 기본값 처리 제거\n",
        "        rows = block[\"row\"]            # 기본값 처리 제거\n",
        "\n",
        "        # MM_TYPE == '개인'만 필터 (키 없으면 KeyError 발생)\n",
        "        rows_personal = [r for r in rows if str(r[\"MM_TYPE\"]).strip() == \"개인\"]\n",
        "\n",
        "        # 필요한 컬럼만 추출 (필드 없으면 KeyError 발생)\n",
        "        for r in rows_personal:\n",
        "            results.append({\n",
        "                \"YEAR\": YEAR,\n",
        "                \"MON\": f\"{MON:02d}\",\n",
        "                \"MM_TYPE\": r[\"MM_TYPE\"],\n",
        "                \"EUS\": r[\"EUS\"],  # 현년 전기사용량\n",
        "                \"GUS\": r[\"GUS\"],  # 현년 가스사용량\n",
        "                \"WUS\": r[\"WUS\"],  # 현년 수도사용량\n",
        "                \"HUS\": r[\"HUS\"],  # 현년 지역난방사용량\n",
        "            })\n",
        "\n",
        "print(f\"총 수집 건수: {len(results)}\")\n",
        "print(results)"
      ],
      "metadata": {
        "colab": {
          "base_uri": "https://localhost:8080/"
        },
        "id": "Mbtdu7_boP5i",
        "outputId": "740a2825-c645-4281-c347-f6b9fba3aade"
      },
      "execution_count": 6,
      "outputs": [
        {
          "output_type": "stream",
          "name": "stdout",
          "text": [
            "총 수집 건수: 83\n",
            "[{'YEAR': 2015, 'MON': '01', 'MM_TYPE': '개인', 'EUS': '193784708', 'GUS': '59133720', 'WUS': '12819757.886', 'HUS': '22740838.937'}, {'YEAR': 2015, 'MON': '02', 'MM_TYPE': '개인', 'EUS': '189974230', 'GUS': '56487358', 'WUS': '12656888.218', 'HUS': '18793320.213'}, {'YEAR': 2015, 'MON': '05', 'MM_TYPE': '개인', 'EUS': '177289769', 'GUS': '22060892', 'WUS': '13086734.214', 'HUS': '1320895.801'}, {'YEAR': 2015, 'MON': '06', 'MM_TYPE': '개인', 'EUS': '186073153', 'GUS': '12677645', 'WUS': '14241651.402', 'HUS': '294312.634'}, {'YEAR': 2015, 'MON': '07', 'MM_TYPE': '개인', 'EUS': '165114568', 'GUS': '8893640', 'WUS': '12083879.038', 'HUS': '702863.645'}, {'YEAR': 2015, 'MON': '08', 'MM_TYPE': '개인', 'EUS': '242000479', 'GUS': '7619018', 'WUS': '15164553.742', 'HUS': '460288.965'}, {'YEAR': 2015, 'MON': '10', 'MM_TYPE': '개인', 'EUS': '186473958', 'GUS': '8924018', 'WUS': '14711828.766', 'HUS': '3167520.127'}, {'YEAR': 2015, 'MON': '12', 'MM_TYPE': '개인', 'EUS': '203388142', 'GUS': '40095231', 'WUS': '13904162.958', 'HUS': '21102616.717'}, {'YEAR': 2016, 'MON': '01', 'MM_TYPE': '개인', 'EUS': '215330620', 'GUS': '57641741', 'WUS': '13218916.436', 'HUS': '27186166.133'}, {'YEAR': 2016, 'MON': '02', 'MM_TYPE': '개인', 'EUS': '216677664', 'GUS': '68879796', 'WUS': '13312113.622', 'HUS': '21452994.715'}, {'YEAR': 2016, 'MON': '03', 'MM_TYPE': '개인', 'EUS': '203451798', 'GUS': '60019600', 'WUS': '13191615.499', 'HUS': '14070182.978'}, {'YEAR': 2016, 'MON': '04', 'MM_TYPE': '개인', 'EUS': '202541336', 'GUS': '40370608', 'WUS': '13748935.736', 'HUS': '4556396.936'}, {'YEAR': 2016, 'MON': '05', 'MM_TYPE': '개인', 'EUS': '195448592', 'GUS': '23077064', 'WUS': '13762618.524', 'HUS': '1166907.615'}, {'YEAR': 2016, 'MON': '06', 'MM_TYPE': '개인', 'EUS': '205061790', 'GUS': '13344932', 'WUS': '14543461.284', 'HUS': '340601.066'}, {'YEAR': 2016, 'MON': '09', 'MM_TYPE': '개인', 'EUS': '241676328', 'GUS': '7030657', 'WUS': '15233262.266', 'HUS': '2597269.386'}, {'YEAR': 2016, 'MON': '10', 'MM_TYPE': '개인', 'EUS': '197827666', 'GUS': '10129547', 'WUS': '15173666.268', 'HUS': '2142328.405'}, {'YEAR': 2016, 'MON': '11', 'MM_TYPE': '개인', 'EUS': '204812090', 'GUS': '23915383', 'WUS': '7215169', 'HUS': '10865402.481'}, {'YEAR': 2017, 'MON': '01', 'MM_TYPE': '개인', 'EUS': '222980440', 'GUS': '61781772', 'WUS': '14077034.016', 'HUS': '20567265.356'}, {'YEAR': 2017, 'MON': '02', 'MM_TYPE': '개인', 'EUS': '226181991', 'GUS': '73537514', 'WUS': '13724166.552', 'HUS': '17733782.246'}, {'YEAR': 2017, 'MON': '03', 'MM_TYPE': '개인', 'EUS': '208386870', 'GUS': '64297007', 'WUS': '13598081.92', 'HUS': '11477962.549'}, {'YEAR': 2017, 'MON': '05', 'MM_TYPE': '개인', 'EUS': '209894672', 'GUS': '25103152', 'WUS': '12950202.184', 'HUS': '19809726.81'}, {'YEAR': 2017, 'MON': '08', 'MM_TYPE': '개인', 'EUS': '297850172', 'GUS': '8429188', 'WUS': '14291829.084', 'HUS': '118927.011'}, {'YEAR': 2017, 'MON': '09', 'MM_TYPE': '개인', 'EUS': '232360099', 'GUS': '8981707', 'WUS': '13842675.562', 'HUS': '1279967.753'}, {'YEAR': 2017, 'MON': '10', 'MM_TYPE': '개인', 'EUS': '202205893', 'GUS': '11910453', 'WUS': '13811362.596', 'HUS': '2177857.689'}, {'YEAR': 2017, 'MON': '11', 'MM_TYPE': '개인', 'EUS': '215620132', 'GUS': '26041170', 'WUS': '13268391.686', 'HUS': '12290667.843'}, {'YEAR': 2018, 'MON': '02', 'MM_TYPE': '개인', 'EUS': '243271752', 'GUS': '88496947', 'WUS': '12905042.86', 'HUS': '22671708.494'}, {'YEAR': 2018, 'MON': '03', 'MM_TYPE': '개인', 'EUS': '219203768', 'GUS': '73426397', 'WUS': '12769174.532', 'HUS': '10924939.951'}, {'YEAR': 2018, 'MON': '06', 'MM_TYPE': '개인', 'EUS': '222820943', 'GUS': '17132065', 'WUS': '14051336.092', 'HUS': '285820.628'}, {'YEAR': 2018, 'MON': '07', 'MM_TYPE': '개인', 'EUS': '269705511', 'GUS': '11259835', 'WUS': '14333667.052', 'HUS': '25843523.832'}, {'YEAR': 2018, 'MON': '11', 'MM_TYPE': '개인', 'EUS': '227294230', 'GUS': '31239511', 'WUS': '13706690.088', 'HUS': '10276290.855'}, {'YEAR': 2018, 'MON': '12', 'MM_TYPE': '개인', 'EUS': '238692561', 'GUS': '54019855', 'WUS': '13732488.456', 'HUS': '20421845.603'}, {'YEAR': 2019, 'MON': '01', 'MM_TYPE': '개인', 'EUS': '253600219', 'GUS': '80308239', 'WUS': '13442971.1', 'HUS': '21963093.848'}, {'YEAR': 2019, 'MON': '02', 'MM_TYPE': '개인', 'EUS': '244927344', 'GUS': '81902188', 'WUS': '13495213.9', 'HUS': '106134923.132'}, {'YEAR': 2019, 'MON': '03', 'MM_TYPE': '개인', 'EUS': '223736787', 'GUS': '65146586.443', 'WUS': '13167550', 'HUS': '13194262.09'}, {'YEAR': 2019, 'MON': '04', 'MM_TYPE': '개인', 'EUS': '232166121', 'GUS': '49391508', 'WUS': '13753270.8', 'HUS': '7858587.747'}, {'YEAR': 2019, 'MON': '06', 'MM_TYPE': '개인', 'EUS': '226119779', 'GUS': '15771701', 'WUS': '14223536.4', 'HUS': '331690.945'}, {'YEAR': 2019, 'MON': '07', 'MM_TYPE': '개인', 'EUS': '257854441', 'GUS': '10700835', 'WUS': '14451345.9', 'HUS': '968957.161'}, {'YEAR': 2019, 'MON': '10', 'MM_TYPE': '개인', 'EUS': '228095713', 'GUS': '11876816', 'WUS': '14804362.3', 'HUS': '2590192.143'}, {'YEAR': 2019, 'MON': '11', 'MM_TYPE': '개인', 'EUS': '231283724', 'GUS': '24835894', 'WUS': '14123043.9', 'HUS': '14983364.884'}, {'YEAR': 2019, 'MON': '12', 'MM_TYPE': '개인', 'EUS': '244976724', 'GUS': '54509050', 'WUS': '14184785.2', 'HUS': '23558262.283'}, {'YEAR': 2020, 'MON': '02', 'MM_TYPE': '개인', 'EUS': '254879033', 'GUS': '76363768', 'WUS': '14052828.8', 'HUS': '20848668.612'}, {'YEAR': 2020, 'MON': '03', 'MM_TYPE': '개인', 'EUS': '244369714', 'GUS': '64367515', 'WUS': '13841531', 'HUS': '14194450.151'}, {'YEAR': 2020, 'MON': '04', 'MM_TYPE': '개인', 'EUS': '247831442', 'GUS': '48373693', 'WUS': '14618775.2', 'HUS': '8499792.566'}, {'YEAR': 2020, 'MON': '08', 'MM_TYPE': '개인', 'EUS': '320723239', 'GUS': '10177428', 'WUS': '15600097.8', 'HUS': '286814.663'}, {'YEAR': 2020, 'MON': '11', 'MM_TYPE': '개인', 'EUS': '247308528', 'GUS': '30095679', 'WUS': '14835013.9', 'HUS': '12882737.572'}, {'YEAR': 2020, 'MON': '12', 'MM_TYPE': '개인', 'EUS': '265370372', 'GUS': '51095720', 'WUS': '15036546.3', 'HUS': '26512966.052'}, {'YEAR': 2021, 'MON': '01', 'MM_TYPE': '개인', 'EUS': '287882528', 'GUS': '80955422', 'WUS': '14273105.8', 'HUS': '31069705.783'}, {'YEAR': 2021, 'MON': '02', 'MM_TYPE': '개인', 'EUS': '271224712', 'GUS': '85581769', 'WUS': '13679936.9', 'HUS': '22238103.26'}, {'YEAR': 2021, 'MON': '05', 'MM_TYPE': '개인', 'EUS': '241741576', 'GUS': '24638403', 'WUS': '14312460.916', 'HUS': '2246730.037'}, {'YEAR': 2021, 'MON': '06', 'MM_TYPE': '개인', 'EUS': '254958704', 'GUS': '18898880', 'WUS': '15174790.6', 'HUS': '396903.273'}, {'YEAR': 2021, 'MON': '07', 'MM_TYPE': '개인', 'EUS': '334733756', 'GUS': '9631171', 'WUS': '16619105.064', 'HUS': '5529269.058'}, {'YEAR': 2021, 'MON': '08', 'MM_TYPE': '개인', 'EUS': '409719040', 'GUS': '10205066', 'WUS': '15737994.8', 'HUS': '127607.838'}, {'YEAR': 2021, 'MON': '09', 'MM_TYPE': '개인', 'EUS': '290606638', 'GUS': '6602872', 'WUS': '15497783.9', 'HUS': '159066.058'}, {'YEAR': 2021, 'MON': '10', 'MM_TYPE': '개인', 'EUS': '253845816', 'GUS': '13840155', 'WUS': '15930639.8', 'HUS': '4220985.501'}, {'YEAR': 2021, 'MON': '11', 'MM_TYPE': '개인', 'EUS': '255516339', 'GUS': '28571168', 'WUS': '14975050.4', 'HUS': '13463697.643'}, {'YEAR': 2021, 'MON': '12', 'MM_TYPE': '개인', 'EUS': '265314948', 'GUS': '54651317', 'WUS': '14873728.5', 'HUS': '25989752.285'}, {'YEAR': 2022, 'MON': '03', 'MM_TYPE': '개인', 'EUS': '256771728', 'GUS': '75577723', 'WUS': '14181287.1', 'HUS': '15843818.715'}, {'YEAR': 2022, 'MON': '05', 'MM_TYPE': '개인', 'EUS': '238866649', 'GUS': '28185559', 'WUS': '14344240.1', 'HUS': '1457446.39'}, {'YEAR': 2022, 'MON': '06', 'MM_TYPE': '개인', 'EUS': '254486733', 'GUS': '15468022', 'WUS': '15087457.3', 'HUS': '838539.99'}, {'YEAR': 2022, 'MON': '07', 'MM_TYPE': '개인', 'EUS': '336383318', 'GUS': '10701998', 'WUS': '14907198', 'HUS': '50033.827'}, {'YEAR': 2022, 'MON': '08', 'MM_TYPE': '개인', 'EUS': '382965547', 'GUS': '8718677', 'WUS': '15555926.8', 'HUS': '3278812.728'}, {'YEAR': 2022, 'MON': '09', 'MM_TYPE': '개인', 'EUS': '294121752', 'GUS': '9220604.8', 'WUS': '15016541.4', 'HUS': '7221052.414'}, {'YEAR': 2022, 'MON': '11', 'MM_TYPE': '개인', 'EUS': '252081207', 'GUS': '28471902', 'WUS': '14485236.6', 'HUS': '10685943.786'}, {'YEAR': 2022, 'MON': '12', 'MM_TYPE': '개인', 'EUS': '266989892', 'GUS': '52230601', 'WUS': '14538742.5', 'HUS': '31655489.658'}, {'YEAR': 2023, 'MON': '04', 'MM_TYPE': '개인', 'EUS': '247142965', 'GUS': '38484227', 'WUS': '13951884.7', 'HUS': '4292056.162'}, {'YEAR': 2023, 'MON': '06', 'MM_TYPE': '개인', 'EUS': '259143276', 'GUS': '14742811', 'WUS': '14822130.1', 'HUS': '1169879.028'}, {'YEAR': 2023, 'MON': '08', 'MM_TYPE': '개인', 'EUS': '407479395', 'GUS': '8486915', 'WUS': '15402396.8', 'HUS': '530124.99'}, {'YEAR': 2023, 'MON': '09', 'MM_TYPE': '개인', 'EUS': '332452167', 'GUS': '7674573', 'WUS': '14941654.4', 'HUS': '19457189.828'}, {'YEAR': 2023, 'MON': '10', 'MM_TYPE': '개인', 'EUS': '255560826', 'GUS': '11273798', 'WUS': '14918622.9', 'HUS': '3049594.261'}, {'YEAR': 2023, 'MON': '11', 'MM_TYPE': '개인', 'EUS': '255362764', 'GUS': '23749738', 'WUS': '14439208.8', 'HUS': '13225464.736'}, {'YEAR': 2023, 'MON': '12', 'MM_TYPE': '개인', 'EUS': '271015225', 'GUS': '47560201', 'WUS': '14519931.6', 'HUS': '24169250.596'}, {'YEAR': 2024, 'MON': '01', 'MM_TYPE': '개인', 'EUS': '290223476', 'GUS': '65608930', 'WUS': '14119336.8', 'HUS': '26759601.094'}, {'YEAR': 2024, 'MON': '02', 'MM_TYPE': '개인', 'EUS': '280810330', 'GUS': '65184440', 'WUS': '14247296.7', 'HUS': '18696968.203'}, {'YEAR': 2024, 'MON': '03', 'MM_TYPE': '개인', 'EUS': '259332255', 'GUS': '58563376', 'WUS': '13792441.8', 'HUS': '13455710.256'}, {'YEAR': 2024, 'MON': '04', 'MM_TYPE': '개인', 'EUS': '256332884', 'GUS': '35786315', 'WUS': '14330249.1', 'HUS': '3099650.225'}, {'YEAR': 2024, 'MON': '05', 'MM_TYPE': '개인', 'EUS': '244740675', 'GUS': '18077028', 'WUS': '14158142.9', 'HUS': '28333197.76'}, {'YEAR': 2024, 'MON': '06', 'MM_TYPE': '개인', 'EUS': '270158916', 'GUS': '11903071', 'WUS': '14966075.6', 'HUS': '20226852.923'}, {'YEAR': 2024, 'MON': '07', 'MM_TYPE': '개인', 'EUS': '340000663', 'GUS': '8319412', 'WUS': '14992942.2', 'HUS': '2173041.617'}, {'YEAR': 2024, 'MON': '08', 'MM_TYPE': '개인', 'EUS': '463971328', 'GUS': '7072251', 'WUS': '15873544.6', 'HUS': '130082.263'}, {'YEAR': 2024, 'MON': '09', 'MM_TYPE': '개인', 'EUS': '409872908', 'GUS': '5729131', 'WUS': '15143321.6', 'HUS': '3420507.136'}, {'YEAR': 2024, 'MON': '10', 'MM_TYPE': '개인', 'EUS': '282268119', 'GUS': '8233421', 'WUS': '15297669.9', 'HUS': '2695491.396'}, {'YEAR': 2024, 'MON': '11', 'MM_TYPE': '개인', 'EUS': '257927956', 'GUS': '17418221', 'WUS': '14678672.5', 'HUS': '8836296.454'}, {'YEAR': 2024, 'MON': '12', 'MM_TYPE': '개인', 'EUS': '134828126', 'GUS': '42103424', 'WUS': '7326853.6', 'HUS': '1513199.277'}]\n"
          ]
        }
      ]
    }
  ],
  "metadata": {
    "colab": {
      "provenance": [],
      "include_colab_link": true
    },
    "kernelspec": {
      "display_name": "Python 3",
      "name": "python3"
    },
    "language_info": {
      "name": "python"
    }
  },
  "nbformat": 4,
  "nbformat_minor": 0
}